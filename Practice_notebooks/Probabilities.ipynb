{
 "cells": [
  {
   "cell_type": "code",
   "execution_count": 1,
   "id": "92419541",
   "metadata": {},
   "outputs": [],
   "source": [
    "import numpy as np\n",
    "import pandas as pd\n",
    "import matplotlib.pyplot as plt\n",
    "import seaborn as sns"
   ]
  },
  {
   "cell_type": "markdown",
   "id": "b8db4cd1",
   "metadata": {},
   "source": [
    "# Compute Probabilities"
   ]
  },
  {
   "cell_type": "code",
   "execution_count": 2,
   "id": "3b45a05c",
   "metadata": {},
   "outputs": [
    {
     "name": "stdout",
     "output_type": "stream",
     "text": [
      "[10. 20. 40. 30.]\n"
     ]
    }
   ],
   "source": [
    "#Events\n",
    "c = np.array([ 1, 2, 4, 3 ])\n",
    "\n",
    "#Probability\n",
    "prob = 100 * c / np.sum(c)\n",
    "print(prob)"
   ]
  },
  {
   "cell_type": "code",
   "execution_count": 5,
   "id": "0b1fec05",
   "metadata": {},
   "outputs": [
    {
     "data": {
      "image/png": "[encoded data removed]",
      "text/plain": [
       "<Figure size 432x288 with 1 Axes>"
      ]
     },
     "metadata": {
      "needs_background": "light"
     },
     "output_type": "display_data"
    }
   ],
   "source": [
    "#Draw colored marble from jar\n",
    "blue = 40\n",
    "yellow = 30\n",
    "orange = 20\n",
    "total = blue + yellow + orange\n",
    "jar = np.hstack((1 * np.ones(blue), 2 * np.ones(yellow), 3 * np.ones(orange)))\n",
    "\n",
    "#Draw 500 marbles w/ replacement\n",
    "n_draw = 500\n",
    "draw_color = np.zeros(n_draw)\n",
    "\n",
    "for drawi in range(n_draw):\n",
    "    rand_marble = int(np.random.rand() * len(jar))\n",
    "    draw_color[drawi] = jar[rand_marble]\n",
    "\n",
    "#Proportion of colors\n",
    "blue_prob = sum(draw_color == 1) / n_draw\n",
    "yellow_prob = sum(draw_color == 2) / n_draw\n",
    "orange_prob = sum(draw_color == 3) / n_draw\n",
    "\n",
    "#Plot of probabilities from simulation\n",
    "plt.bar([1,2,3],[blue_prob, yellow_prob, orange_prob], label = 'Proportion')\n",
    "plt.plot([0.5, 1.5],[blue / total, blue / total], 'b', linewidth=3, label='Probability')\n",
    "plt.plot([1.5, 2.5],[yellow / total, yellow / total], 'b', linewidth=3)\n",
    "plt.plot([2.5, 3.5],[orange / total, orange / total], 'b', linewidth=3)\n",
    "\n",
    "plt.xticks([1,2,3],labels=('Blue', 'Yellow', 'Orange'))\n",
    "plt.xlabel('Marble color')\n",
    "plt.ylabel('Proportion/probability')\n",
    "plt.legend()\n",
    "plt.show()"
   ]
  }
 ],
 "metadata": {
  "kernelspec": {
   "display_name": "Python (tensor)",
   "language": "python",
   "name": "tensor"
  },
  "language_info": {
   "codemirror_mode": {
    "name": "ipython",
    "version": 3
   },
   "file_extension": ".py",
   "mimetype": "text/x-python",
   "name": "python",
   "nbconvert_exporter": "python",
   "pygments_lexer": "ipython3",
   "version": "3.8.12"
  }
 },
 "nbformat": 4,
 "nbformat_minor": 5
}
